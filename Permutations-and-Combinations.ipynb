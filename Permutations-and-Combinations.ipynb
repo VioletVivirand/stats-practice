{
 "cells": [
  {
   "cell_type": "markdown",
   "id": "b522f087-785c-45ae-8e28-19e42eb6e858",
   "metadata": {},
   "source": [
    "# 排列、組合"
   ]
  },
  {
   "cell_type": "code",
   "execution_count": 1,
   "id": "a96d2149-ef0b-4682-a550-24f0a4fe303f",
   "metadata": {},
   "outputs": [],
   "source": [
    "from math import factorial, prod\n",
    "from scipy.special import perm, comb"
   ]
  },
  {
   "cell_type": "markdown",
   "id": "1137d1a2-9fe9-4f36-a1b5-1bcc0f32a674",
   "metadata": {},
   "source": [
    "## 排列"
   ]
  },
  {
   "cell_type": "markdown",
   "id": "4be8958c-87be-4150-8dc1-4e753ed25f55",
   "metadata": {},
   "source": [
    "排列公式：$n$ 個相異物品中，依序取出 $r$ 個排成一列，排列方式總共有 $P^{n}_{r}$ 種：\n",
    "\n",
    "$$\n",
    "\\begin{align*}\n",
    "P^{n}_{r} & = \\frac{n!}{(n-r)!} \\text{ ...(1)} \\newline\n",
    "& = n(n-1)(n-2)\\text{...}(n-r+1) \\text{ ...(2)}\n",
    "\\end{align*}\n",
    "$$"
   ]
  },
  {
   "cell_type": "markdown",
   "id": "1cfd8afb-9ec1-4853-a754-51c074d0be72",
   "metadata": {},
   "source": [
    "例：從 3 個人中選出 2 個人排成一列，總共有幾種排法？"
   ]
  },
  {
   "cell_type": "code",
   "execution_count": 2,
   "id": "10e92971-823b-4a6a-8ad9-163ee4c618bc",
   "metadata": {},
   "outputs": [],
   "source": [
    "n, r = 3, 2"
   ]
  },
  {
   "cell_type": "code",
   "execution_count": 3,
   "id": "4e46b4cd-acda-4839-a392-7bbc36610bff",
   "metadata": {},
   "outputs": [
    {
     "data": {
      "text/plain": [
       "6"
      ]
     },
     "execution_count": 3,
     "metadata": {},
     "output_type": "execute_result"
    }
   ],
   "source": [
    "# 原始算法 (1)\n",
    "P_n_r = int(factorial(3) / factorial(n-r))\n",
    "P_n_r"
   ]
  },
  {
   "cell_type": "code",
   "execution_count": 4,
   "id": "6ef48f8d-1832-4aeb-8358-2113ba4f472c",
   "metadata": {},
   "outputs": [
    {
     "data": {
      "text/plain": [
       "6"
      ]
     },
     "execution_count": 4,
     "metadata": {},
     "output_type": "execute_result"
    }
   ],
   "source": [
    "# 原始算法 (2)\n",
    "# 註：先用 range 找出 n 到 n-r+1 的數列，再用 math.prod() 讓彼此相乘\n",
    "P_n_r = prod(list(range(n, (n-r+1)-1, -1)))\n",
    "P_n_r"
   ]
  },
  {
   "cell_type": "code",
   "execution_count": 5,
   "id": "9cbddec3-16b7-4639-80d6-a02c3d50b084",
   "metadata": {},
   "outputs": [
    {
     "data": {
      "text/plain": [
       "6"
      ]
     },
     "execution_count": 5,
     "metadata": {},
     "output_type": "execute_result"
    }
   ],
   "source": [
    "# 利用 scipy.special.perm() 計算\n",
    "int(perm(3, 2))"
   ]
  },
  {
   "cell_type": "markdown",
   "id": "f9706b79-1a8a-4e22-889c-e03dfcedba95",
   "metadata": {
    "tags": []
   },
   "source": [
    "## 組合"
   ]
  },
  {
   "cell_type": "markdown",
   "id": "8b758bd7-3e26-4b18-90c8-11355ea6f864",
   "metadata": {},
   "source": [
    "組合公式：$n$ 個相異物品中，依序取出 $r$ 個，取出方式總共有 $C^{n}_{r}$ 種：\n",
    "\n",
    "$$\n",
    "C^{n}_{r} = \\frac{n!}{r!(n-r)!}\n",
    "$$"
   ]
  },
  {
   "cell_type": "code",
   "execution_count": 6,
   "id": "7549861c-dffa-448a-af5f-ea93123f1474",
   "metadata": {},
   "outputs": [
    {
     "data": {
      "text/plain": [
       "3"
      ]
     },
     "execution_count": 6,
     "metadata": {},
     "output_type": "execute_result"
    }
   ],
   "source": [
    "# 原始算法\n",
    "C_n_r = int(factorial(n) / (factorial(r) * factorial(n-r)))\n",
    "C_n_r"
   ]
  },
  {
   "cell_type": "code",
   "execution_count": 7,
   "id": "8a65efb7-2f17-499d-8601-a4e4667f91a9",
   "metadata": {},
   "outputs": [
    {
     "data": {
      "text/plain": [
       "3"
      ]
     },
     "execution_count": 7,
     "metadata": {},
     "output_type": "execute_result"
    }
   ],
   "source": [
    "# 利用 scipy.special.comb() 計算\n",
    "C_n_r = int(comb(n, r))\n",
    "C_n_r"
   ]
  }
 ],
 "metadata": {
  "kernelspec": {
   "display_name": "Python 3",
   "language": "python",
   "name": "python3"
  },
  "language_info": {
   "codemirror_mode": {
    "name": "ipython",
    "version": 3
   },
   "file_extension": ".py",
   "mimetype": "text/x-python",
   "name": "python",
   "nbconvert_exporter": "python",
   "pygments_lexer": "ipython3",
   "version": "3.8.9"
  }
 },
 "nbformat": 4,
 "nbformat_minor": 5
}
