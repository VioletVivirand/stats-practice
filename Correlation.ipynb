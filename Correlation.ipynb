{
 "cells": [
  {
   "cell_type": "markdown",
   "id": "088894e6-4b4d-4fe8-8b8e-0c74c2e95c94",
   "metadata": {},
   "source": [
    "# 相關"
   ]
  },
  {
   "cell_type": "code",
   "execution_count": 1,
   "id": "a18d7e23-d65c-4bcb-b1b4-dc993c1f5c3e",
   "metadata": {},
   "outputs": [],
   "source": [
    "import numpy as np\n",
    "import pandas as pd"
   ]
  },
  {
   "cell_type": "code",
   "execution_count": 2,
   "id": "92537e37-a030-4167-9b66-964a33f9437a",
   "metadata": {},
   "outputs": [],
   "source": [
    "data_df = pd.read_csv(\"Data-height-weight.txt\")"
   ]
  },
  {
   "cell_type": "code",
   "execution_count": 3,
   "id": "7c26ccf5-cdee-4a29-a7b8-c76c39117bf8",
   "metadata": {},
   "outputs": [
    {
     "data": {
      "text/html": [
       "<div>\n",
       "<style scoped>\n",
       "    .dataframe tbody tr th:only-of-type {\n",
       "        vertical-align: middle;\n",
       "    }\n",
       "\n",
       "    .dataframe tbody tr th {\n",
       "        vertical-align: top;\n",
       "    }\n",
       "\n",
       "    .dataframe thead th {\n",
       "        text-align: right;\n",
       "    }\n",
       "</style>\n",
       "<table border=\"1\" class=\"dataframe\">\n",
       "  <thead>\n",
       "    <tr style=\"text-align: right;\">\n",
       "      <th></th>\n",
       "      <th>no</th>\n",
       "      <th>height</th>\n",
       "      <th>weight</th>\n",
       "    </tr>\n",
       "  </thead>\n",
       "  <tbody>\n",
       "    <tr>\n",
       "      <th>0</th>\n",
       "      <td>1</td>\n",
       "      <td>147.9</td>\n",
       "      <td>41.7</td>\n",
       "    </tr>\n",
       "    <tr>\n",
       "      <th>1</th>\n",
       "      <td>2</td>\n",
       "      <td>163.5</td>\n",
       "      <td>60.2</td>\n",
       "    </tr>\n",
       "    <tr>\n",
       "      <th>2</th>\n",
       "      <td>3</td>\n",
       "      <td>159.8</td>\n",
       "      <td>47.0</td>\n",
       "    </tr>\n",
       "    <tr>\n",
       "      <th>3</th>\n",
       "      <td>4</td>\n",
       "      <td>155.1</td>\n",
       "      <td>53.2</td>\n",
       "    </tr>\n",
       "    <tr>\n",
       "      <th>4</th>\n",
       "      <td>5</td>\n",
       "      <td>163.3</td>\n",
       "      <td>48.3</td>\n",
       "    </tr>\n",
       "    <tr>\n",
       "      <th>5</th>\n",
       "      <td>6</td>\n",
       "      <td>158.7</td>\n",
       "      <td>55.2</td>\n",
       "    </tr>\n",
       "    <tr>\n",
       "      <th>6</th>\n",
       "      <td>7</td>\n",
       "      <td>172.0</td>\n",
       "      <td>58.5</td>\n",
       "    </tr>\n",
       "    <tr>\n",
       "      <th>7</th>\n",
       "      <td>8</td>\n",
       "      <td>161.2</td>\n",
       "      <td>49.0</td>\n",
       "    </tr>\n",
       "    <tr>\n",
       "      <th>8</th>\n",
       "      <td>9</td>\n",
       "      <td>153.9</td>\n",
       "      <td>46.7</td>\n",
       "    </tr>\n",
       "    <tr>\n",
       "      <th>9</th>\n",
       "      <td>10</td>\n",
       "      <td>161.6</td>\n",
       "      <td>52.5</td>\n",
       "    </tr>\n",
       "  </tbody>\n",
       "</table>\n",
       "</div>"
      ],
      "text/plain": [
       "   no  height  weight\n",
       "0   1   147.9    41.7\n",
       "1   2   163.5    60.2\n",
       "2   3   159.8    47.0\n",
       "3   4   155.1    53.2\n",
       "4   5   163.3    48.3\n",
       "5   6   158.7    55.2\n",
       "6   7   172.0    58.5\n",
       "7   8   161.2    49.0\n",
       "8   9   153.9    46.7\n",
       "9  10   161.6    52.5"
      ]
     },
     "execution_count": 3,
     "metadata": {},
     "output_type": "execute_result"
    }
   ],
   "source": [
    "data_df"
   ]
  },
  {
   "cell_type": "code",
   "execution_count": 4,
   "id": "1baeee58-2d47-4391-8cd1-b30f634506e3",
   "metadata": {},
   "outputs": [
    {
     "data": {
      "text/plain": [
       "<AxesSubplot:xlabel='height', ylabel='weight'>"
      ]
     },
     "execution_count": 4,
     "metadata": {},
     "output_type": "execute_result"
    },
    {
     "data": {
      "image/png": "[encoded data removed]",
      "text/plain": [
       "<Figure size 432x288 with 1 Axes>"
      ]
     },
     "metadata": {
      "needs_background": "light"
     },
     "output_type": "display_data"
    }
   ],
   "source": [
    "data_df.loc[:, [\"height\", \"weight\"]].plot(kind='scatter', x='height', y='weight')"
   ]
  },
  {
   "cell_type": "markdown",
   "id": "f1f5128d-165b-4c0e-ae08-57f8008d7e85",
   "metadata": {
    "tags": []
   },
   "source": [
    "## 共變異數"
   ]
  },
  {
   "cell_type": "markdown",
   "id": "5719c64e-2255-43db-ae39-6c7e60fa49a7",
   "metadata": {},
   "source": [
    "共變異數的計算：\n",
    "\n",
    "$$\n",
    "\\begin{align*}\n",
    "S_{xy} & = \\frac{(x_1-\\overline{x})(y_1-\\overline{y})+(x_2-\\overline{x})(y_2-\\overline{y})+\\text{...}+(x_n-\\overline{x})(y_n-\\overline{y})}{n} \\newline\n",
    "& = \\frac{\\sum_{i=1}^n{(x_i-\\overline{x})(y_i-\\overline{y})}}{n}\n",
    "\\end{align*}\n",
    "$$"
   ]
  },
  {
   "cell_type": "markdown",
   "id": "dbdb3eeb-44e2-4910-9a82-814e084c3b34",
   "metadata": {},
   "source": [
    "例：求出女大學生的身高與體重的共變異數"
   ]
  },
  {
   "cell_type": "code",
   "execution_count": 5,
   "id": "b0d73443-8f67-4186-99ad-f5843e626b38",
   "metadata": {},
   "outputs": [
    {
     "data": {
      "text/plain": [
       "23.729999999999976"
      ]
     },
     "execution_count": 5,
     "metadata": {},
     "output_type": "execute_result"
    }
   ],
   "source": [
    "# 原始算法\n",
    "mean_height = data_df.loc[:, \"height\"].mean()\n",
    "mean_weight = data_df.loc[:, \"weight\"].mean()\n",
    "S_xy = np.sum([(row[\"height\"]-mean_height)*(row[\"weight\"]-mean_weight) for _, row in data_df.loc[:, [\"height\", \"weight\"]].iterrows()]) / data_df.shape[0]\n",
    "S_xy"
   ]
  },
  {
   "cell_type": "code",
   "execution_count": 6,
   "id": "34122b20-9326-4fc7-9471-8079bb84c400",
   "metadata": {},
   "outputs": [
    {
     "data": {
      "text/html": [
       "<div>\n",
       "<style scoped>\n",
       "    .dataframe tbody tr th:only-of-type {\n",
       "        vertical-align: middle;\n",
       "    }\n",
       "\n",
       "    .dataframe tbody tr th {\n",
       "        vertical-align: top;\n",
       "    }\n",
       "\n",
       "    .dataframe thead th {\n",
       "        text-align: right;\n",
       "    }\n",
       "</style>\n",
       "<table border=\"1\" class=\"dataframe\">\n",
       "  <thead>\n",
       "    <tr style=\"text-align: right;\">\n",
       "      <th></th>\n",
       "      <th>height</th>\n",
       "      <th>weight</th>\n",
       "    </tr>\n",
       "  </thead>\n",
       "  <tbody>\n",
       "    <tr>\n",
       "      <th>height</th>\n",
       "      <td>37.96</td>\n",
       "      <td>23.7300</td>\n",
       "    </tr>\n",
       "    <tr>\n",
       "      <th>weight</th>\n",
       "      <td>23.73</td>\n",
       "      <td>29.7361</td>\n",
       "    </tr>\n",
       "  </tbody>\n",
       "</table>\n",
       "</div>"
      ],
      "text/plain": [
       "        height   weight\n",
       "height   37.96  23.7300\n",
       "weight   23.73  29.7361"
      ]
     },
     "execution_count": 6,
     "metadata": {},
     "output_type": "execute_result"
    }
   ],
   "source": [
    "# 利用 pandas.DataFrame.cov() 計算\n",
    "# 註：這份資料是母體資料，計算時記得設定自由度 ddof=0\n",
    "data_df.loc[:, [\"height\", \"weight\"]].cov(ddof=0)"
   ]
  },
  {
   "cell_type": "code",
   "execution_count": 7,
   "id": "39fd5b9f-9a83-4c08-8052-aebd79288ca7",
   "metadata": {},
   "outputs": [
    {
     "data": {
      "text/plain": [
       "array([[37.96  , 23.73  ],\n",
       "       [23.73  , 29.7361]])"
      ]
     },
     "execution_count": 7,
     "metadata": {},
     "output_type": "execute_result"
    }
   ],
   "source": [
    "# 利用 numpy.cov() 計算\n",
    "# 註 1：從 Pandas DataFrame 轉換為 Numpy Array 以前，要先轉置\n",
    "# 註 2：這份資料是母體資料，計算時記得設定自由度 ddof=0\n",
    "np.cov(data_df.loc[:, [\"height\", \"weight\"]].T.to_numpy(), ddof=0)"
   ]
  },
  {
   "cell_type": "markdown",
   "id": "a302f4a1-f148-4d9b-9ae1-2de76888b028",
   "metadata": {},
   "source": [
    "## 皮爾森積動差相關係數"
   ]
  },
  {
   "cell_type": "markdown",
   "id": "92672c0b-c7d1-4690-9e3d-53bf5889f16c",
   "metadata": {},
   "source": [
    "$$\n",
    "r_{xy} = \\frac{S_{xy}}{S_{x}S_{y}}\n",
    "$$\n",
    "\n",
    "其中，$S_{xy}$ 為共變異數、$S_{x}, S_{y}$ 分別為 $x, y$ 的標準差"
   ]
  },
  {
   "cell_type": "markdown",
   "id": "533e551e-eb36-42c6-a50d-a4415564d154",
   "metadata": {},
   "source": [
    "例：求出女大學生的身高與體重的相關係數"
   ]
  },
  {
   "cell_type": "code",
   "execution_count": 8,
   "id": "3e9925fc-231c-449a-b73e-8f43323de492",
   "metadata": {},
   "outputs": [
    {
     "data": {
      "text/plain": [
       "0.7063055714476573"
      ]
     },
     "execution_count": 8,
     "metadata": {},
     "output_type": "execute_result"
    }
   ],
   "source": [
    "# 原始算法\n",
    "# 註：這份資料是母體資料，計算時記得設定自由度 ddof=0\n",
    "S_x = data_df.loc[:, \"height\"].std(ddof=0)\n",
    "S_y = data_df.loc[:, \"weight\"].std(ddof=0)\n",
    "r_xy = S_xy / (S_x * S_y)\n",
    "r_xy"
   ]
  },
  {
   "cell_type": "code",
   "execution_count": 9,
   "id": "edcfdc95-721d-4474-b69f-598ad68a314c",
   "metadata": {},
   "outputs": [
    {
     "data": {
      "text/html": [
       "<div>\n",
       "<style scoped>\n",
       "    .dataframe tbody tr th:only-of-type {\n",
       "        vertical-align: middle;\n",
       "    }\n",
       "\n",
       "    .dataframe tbody tr th {\n",
       "        vertical-align: top;\n",
       "    }\n",
       "\n",
       "    .dataframe thead th {\n",
       "        text-align: right;\n",
       "    }\n",
       "</style>\n",
       "<table border=\"1\" class=\"dataframe\">\n",
       "  <thead>\n",
       "    <tr style=\"text-align: right;\">\n",
       "      <th></th>\n",
       "      <th>height</th>\n",
       "      <th>weight</th>\n",
       "    </tr>\n",
       "  </thead>\n",
       "  <tbody>\n",
       "    <tr>\n",
       "      <th>height</th>\n",
       "      <td>1.000000</td>\n",
       "      <td>0.706306</td>\n",
       "    </tr>\n",
       "    <tr>\n",
       "      <th>weight</th>\n",
       "      <td>0.706306</td>\n",
       "      <td>1.000000</td>\n",
       "    </tr>\n",
       "  </tbody>\n",
       "</table>\n",
       "</div>"
      ],
      "text/plain": [
       "          height    weight\n",
       "height  1.000000  0.706306\n",
       "weight  0.706306  1.000000"
      ]
     },
     "execution_count": 9,
     "metadata": {},
     "output_type": "execute_result"
    }
   ],
   "source": [
    "# 利用 pandas.DataFrame.corr() 計算\n",
    "data_df.loc[:, [\"height\", \"weight\"]].corr()"
   ]
  },
  {
   "cell_type": "code",
   "execution_count": 10,
   "id": "2a653518-6a86-4128-b82a-77823530ed4d",
   "metadata": {},
   "outputs": [
    {
     "data": {
      "text/plain": [
       "array([[1.        , 0.70630557],\n",
       "       [0.70630557, 1.        ]])"
      ]
     },
     "execution_count": 10,
     "metadata": {},
     "output_type": "execute_result"
    }
   ],
   "source": [
    "# 利用 np.corrcoef() 計算\n",
    "np.corrcoef(data_df.loc[:, [\"height\", \"weight\"]].T.to_numpy().reshape(2, -1))"
   ]
  }
 ],
 "metadata": {
  "kernelspec": {
   "display_name": "Python 3",
   "language": "python",
   "name": "python3"
  },
  "language_info": {
   "codemirror_mode": {
    "name": "ipython",
    "version": 3
   },
   "file_extension": ".py",
   "mimetype": "text/x-python",
   "name": "python",
   "nbconvert_exporter": "python",
   "pygments_lexer": "ipython3",
   "version": "3.8.9"
  }
 },
 "nbformat": 4,
 "nbformat_minor": 5
}
